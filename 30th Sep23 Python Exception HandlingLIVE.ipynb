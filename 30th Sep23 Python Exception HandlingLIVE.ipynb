{
 "cells": [
  {
   "cell_type": "code",
   "execution_count": 9,
   "id": "7e464da2-621e-4d6d-bb0e-790986241006",
   "metadata": {},
   "outputs": [
    {
     "name": "stdin",
     "output_type": "stream",
     "text": [
      "emter a value a: 6\n",
      "emter a value b: 0\n"
     ]
    }
   ],
   "source": [
    "a=int(input(\"emter a value a:\"))\n",
    "b=int(input(\"emter a value b:\"))"
   ]
  },
  {
   "cell_type": "code",
   "execution_count": 5,
   "id": "c48951c1-2505-442e-9255-a827d3e42811",
   "metadata": {},
   "outputs": [
    {
     "data": {
      "text/plain": [
       "0"
      ]
     },
     "execution_count": 5,
     "metadata": {},
     "output_type": "execute_result"
    }
   ],
   "source": [
    "a*b"
   ]
  },
  {
   "cell_type": "code",
   "execution_count": 11,
   "id": "98462e42-21a4-44f5-9034-5a4120be3c52",
   "metadata": {},
   "outputs": [
    {
     "ename": "ZeroDivisionError",
     "evalue": "division by zero",
     "output_type": "error",
     "traceback": [
      "\u001b[0;31m---------------------------------------------------------------------------\u001b[0m",
      "\u001b[0;31mZeroDivisionError\u001b[0m                         Traceback (most recent call last)",
      "Cell \u001b[0;32mIn[11], line 1\u001b[0m\n\u001b[0;32m----> 1\u001b[0m a\u001b[38;5;241m/\u001b[39mb\n\u001b[1;32m      2\u001b[0m \u001b[38;5;28mprint\u001b[39m(\u001b[38;5;124m\"\u001b[39m\u001b[38;5;124mprint something\u001b[39m\u001b[38;5;124m\"\u001b[39m)\n",
      "\u001b[0;31mZeroDivisionError\u001b[0m: division by zero"
     ]
    }
   ],
   "source": [
    "a/b\n",
    "print(\"print something\")"
   ]
  },
  {
   "cell_type": "code",
   "execution_count": 10,
   "id": "1a004f69-7dca-4b69-9493-adedba73be95",
   "metadata": {},
   "outputs": [
    {
     "data": {
      "text/plain": [
       "6"
      ]
     },
     "execution_count": 10,
     "metadata": {},
     "output_type": "execute_result"
    }
   ],
   "source": [
    "a+b"
   ]
  },
  {
   "cell_type": "code",
   "execution_count": 32,
   "id": "6f1a3560-a73c-4f4f-9315-0dbc54a22f69",
   "metadata": {},
   "outputs": [],
   "source": [
    "l=[3,4,5,7,8,53,2]\n",
    "l1=[]\n",
    "def even_persan(l):\n",
    "    for i in l:\n",
    "        if i%2==0:\n",
    "           l1.append(i)\n",
    "    return l1"
   ]
  },
  {
   "cell_type": "code",
   "execution_count": 37,
   "id": "89cb9d1e-3a49-4890-895e-4dae7bc2276f",
   "metadata": {},
   "outputs": [
    {
     "ename": "TypeError",
     "evalue": "not all arguments converted during string formatting",
     "output_type": "error",
     "traceback": [
      "\u001b[0;31m---------------------------------------------------------------------------\u001b[0m",
      "\u001b[0;31mTypeError\u001b[0m                                 Traceback (most recent call last)",
      "Cell \u001b[0;32mIn[37], line 1\u001b[0m\n\u001b[0;32m----> 1\u001b[0m even_persan(\u001b[38;5;124m\"\u001b[39m\u001b[38;5;124mshah\u001b[39m\u001b[38;5;124m\"\u001b[39m)\n\u001b[1;32m      2\u001b[0m \u001b[38;5;28mprint\u001b[39m(\u001b[38;5;124m\"\u001b[39m\u001b[38;5;124mshahahsnha\u001b[39m\u001b[38;5;124m\"\u001b[39m)\n",
      "Cell \u001b[0;32mIn[32], line 5\u001b[0m, in \u001b[0;36meven_persan\u001b[0;34m(l)\u001b[0m\n\u001b[1;32m      3\u001b[0m \u001b[38;5;28;01mdef\u001b[39;00m \u001b[38;5;21meven_persan\u001b[39m(l):\n\u001b[1;32m      4\u001b[0m     \u001b[38;5;28;01mfor\u001b[39;00m i \u001b[38;5;129;01min\u001b[39;00m l:\n\u001b[0;32m----> 5\u001b[0m         \u001b[38;5;28;01mif\u001b[39;00m i\u001b[38;5;241m%\u001b[39m\u001b[38;5;241m2\u001b[39m\u001b[38;5;241m==\u001b[39m\u001b[38;5;241m0\u001b[39m:\n\u001b[1;32m      6\u001b[0m            l1\u001b[38;5;241m.\u001b[39mappend(i)\n\u001b[1;32m      7\u001b[0m     \u001b[38;5;28;01mreturn\u001b[39;00m l1\n",
      "\u001b[0;31mTypeError\u001b[0m: not all arguments converted during string formatting"
     ]
    }
   ],
   "source": [
    "even_persan(\"shah\")\n",
    "print(\"shahahsnha\")"
   ]
  },
  {
   "cell_type": "code",
   "execution_count": 47,
   "id": "1f5b72b6-638b-4bea-97cf-5e2831aa0c48",
   "metadata": {},
   "outputs": [
    {
     "name": "stdin",
     "output_type": "stream",
     "text": [
      "emter a value a: 5\n",
      "emter a value b: 0\n"
     ]
    },
    {
     "name": "stdout",
     "output_type": "stream",
     "text": [
      "print some thing\n"
     ]
    }
   ],
   "source": [
    "try:\n",
    "    a=int(input(\"emter a value a:\"))\n",
    "    b=int(input(\"emter a value b:\"))\n",
    "    c=a/c\n",
    "    print(c)\n",
    "except:\n",
    "    pass\n",
    "    print(\"print some thing\")"
   ]
  },
  {
   "cell_type": "code",
   "execution_count": 48,
   "id": "6e3b131a-2a72-4a14-84d0-437d63641b5c",
   "metadata": {},
   "outputs": [
    {
     "name": "stdin",
     "output_type": "stream",
     "text": [
      "emter a value a: shahahs\n"
     ]
    },
    {
     "name": "stdout",
     "output_type": "stream",
     "text": [
      "print some thing\n"
     ]
    }
   ],
   "source": [
    "try:\n",
    "    a=int(input(\"emter a value a:\"))\n",
    "    b=int(input(\"emter a value b:\"))\n",
    "    c=a/c\n",
    "    print(c)\n",
    "except:\n",
    "    pass\n",
    "    print(\"print some thing\")"
   ]
  },
  {
   "cell_type": "code",
   "execution_count": 88,
   "id": "f930e288-d589-4a6c-a30e-fd8071f30228",
   "metadata": {},
   "outputs": [],
   "source": [
    "l=[3,4,5,7,8,53,2]\n",
    "l1=[]\n",
    "def even_persan(l):\n",
    "    try:\n",
    "        for i in l:\n",
    "           if i % 2 == 0:\n",
    "                l1.append(i)\n",
    "                return l1\n",
    "    except :\n",
    "        pass"
   ]
  },
  {
   "cell_type": "code",
   "execution_count": 96,
   "id": "e453a3c8-1b89-4e70-9167-eb35e46d3560",
   "metadata": {},
   "outputs": [
    {
     "name": "stdout",
     "output_type": "stream",
     "text": [
      "shahanshaah\n"
     ]
    },
    {
     "data": {
      "text/plain": [
       "11"
      ]
     },
     "execution_count": 96,
     "metadata": {},
     "output_type": "execute_result"
    }
   ],
   "source": [
    "even_persan(l)\n",
    "\n",
    "print(\"shahanshaah\")\n",
    "5+6"
   ]
  },
  {
   "cell_type": "code",
   "execution_count": null,
   "id": "951517e8-7ed1-4c4f-b8db-3256b4b34ed5",
   "metadata": {},
   "outputs": [],
   "source": []
  },
  {
   "cell_type": "code",
   "execution_count": 52,
   "id": "aeb178b1-1c49-4db8-9146-082829d6ac0b",
   "metadata": {},
   "outputs": [
    {
     "ename": "TypeError",
     "evalue": "'int' object is not iterable",
     "output_type": "error",
     "traceback": [
      "\u001b[0;31m---------------------------------------------------------------------------\u001b[0m",
      "\u001b[0;31mTypeError\u001b[0m                                 Traceback (most recent call last)",
      "Cell \u001b[0;32mIn[52], line 1\u001b[0m\n\u001b[0;32m----> 1\u001b[0m even_persan(\u001b[38;5;241m6\u001b[39m)\n",
      "Cell \u001b[0;32mIn[49], line 4\u001b[0m, in \u001b[0;36meven_persan\u001b[0;34m(l)\u001b[0m\n\u001b[1;32m      3\u001b[0m \u001b[38;5;28;01mdef\u001b[39;00m \u001b[38;5;21meven_persan\u001b[39m(l):\n\u001b[0;32m----> 4\u001b[0m     \u001b[38;5;28;01mfor\u001b[39;00m i \u001b[38;5;129;01min\u001b[39;00m l:\n\u001b[1;32m      5\u001b[0m         \u001b[38;5;28;01mif\u001b[39;00m i\u001b[38;5;241m%\u001b[39m\u001b[38;5;241m2\u001b[39m\u001b[38;5;241m==\u001b[39m\u001b[38;5;241m0\u001b[39m:\n\u001b[1;32m      6\u001b[0m            l1\u001b[38;5;241m.\u001b[39mappend(i)\n",
      "\u001b[0;31mTypeError\u001b[0m: 'int' object is not iterable"
     ]
    }
   ],
   "source": [
    "even_persan(6)"
   ]
  },
  {
   "cell_type": "code",
   "execution_count": 105,
   "id": "81b6c544-85f3-47e5-8d77-2595d88fe5eb",
   "metadata": {},
   "outputs": [
    {
     "name": "stdout",
     "output_type": "stream",
     "text": [
      "division by zero\n"
     ]
    }
   ],
   "source": [
    "try:\n",
    "    c=6/0\n",
    "except Exception as e:\n",
    "    print(e)\n",
    "    "
   ]
  },
  {
   "cell_type": "code",
   "execution_count": 103,
   "id": "e08d18fa-4f67-4bdb-9a4c-df8fc07446d4",
   "metadata": {},
   "outputs": [
    {
     "ename": "ZeroDivisionError",
     "evalue": "division by zero",
     "output_type": "error",
     "traceback": [
      "\u001b[0;31m---------------------------------------------------------------------------\u001b[0m",
      "\u001b[0;31mZeroDivisionError\u001b[0m                         Traceback (most recent call last)",
      "Cell \u001b[0;32mIn[103], line 1\u001b[0m\n\u001b[0;32m----> 1\u001b[0m c\u001b[38;5;241m=\u001b[39m\u001b[38;5;241m6\u001b[39m\u001b[38;5;241m/\u001b[39m\u001b[38;5;241m0\u001b[39m\n",
      "\u001b[0;31mZeroDivisionError\u001b[0m: division by zero"
     ]
    }
   ],
   "source": [
    "c=6/0"
   ]
  },
  {
   "cell_type": "code",
   "execution_count": 108,
   "id": "ffd7918a-5f0a-4aa8-b466-f798bdaba73e",
   "metadata": {},
   "outputs": [
    {
     "name": "stdin",
     "output_type": "stream",
     "text": [
      " 3\n",
      " 0\n"
     ]
    },
    {
     "name": "stdout",
     "output_type": "stream",
     "text": [
      "division by zero\n"
     ]
    }
   ],
   "source": [
    "try:\n",
    "    a=int(input())\n",
    "    b=int(input())\n",
    "    c=6/0\n",
    "except Exception as e:\n",
    "    print(e)"
   ]
  },
  {
   "cell_type": "code",
   "execution_count": 114,
   "id": "378fc63c-c775-424a-9093-88e8ec902402",
   "metadata": {},
   "outputs": [
    {
     "name": "stdin",
     "output_type": "stream",
     "text": [
      " shahanshah\n"
     ]
    },
    {
     "name": "stdout",
     "output_type": "stream",
     "text": [
      "invalid literal for int() with base 10: 'shahanshah'\n"
     ]
    }
   ],
   "source": [
    "try:\n",
    "    a=int(input())\n",
    "    b=int(input())\n",
    "    c=a/b\n",
    "except TypeError as t:\n",
    "    print(t)\n",
    "except ZeroDivisionError as z:\n",
    "    print(z)\n",
    "except ValueError as v:\n",
    "    print(v)"
   ]
  },
  {
   "cell_type": "code",
   "execution_count": 125,
   "id": "25023872-e2bb-4e25-9386-1747b58a00d5",
   "metadata": {},
   "outputs": [
    {
     "name": "stdout",
     "output_type": "stream",
     "text": [
      "division by zero\n",
      "invalid literal for int() with base 10: 'shahanshah'\n"
     ]
    }
   ],
   "source": [
    "try:\n",
    "    x=5/0\n",
    "except ZeroDivisionError as z:\n",
    "    print(z)\n",
    "    try:\n",
    "        y=int(\"shahanshah\")\n",
    "    except ValueError as v:\n",
    "      print(v)\n",
    "    "
   ]
  },
  {
   "cell_type": "code",
   "execution_count": 126,
   "id": "b7663fd8-27f6-460a-8803-fd85ce0a384c",
   "metadata": {},
   "outputs": [
    {
     "name": "stdout",
     "output_type": "stream",
     "text": [
      "division by zero\n",
      "invalid literal for int() with base 10: 'shahanshah'\n"
     ]
    }
   ],
   "source": [
    "try:\n",
    "    x = 5 / 0\n",
    "except ZeroDivisionError as z:\n",
    "    print(z)\n",
    "\n",
    "try:\n",
    "    y = int(\"shahanshah\")\n",
    "except ValueError as v:\n",
    "    print(v)\n"
   ]
  },
  {
   "cell_type": "code",
   "execution_count": 130,
   "id": "ea6b66a3-0fee-4648-9d23-77f5b94add10",
   "metadata": {},
   "outputs": [
    {
     "name": "stdout",
     "output_type": "stream",
     "text": [
      "division by zero\n",
      "this will be executed always\n"
     ]
    }
   ],
   "source": [
    "try:\n",
    "    x=5/0\n",
    "except ZeroDivisionError as z:\n",
    "    print(z)\n",
    "else:\n",
    "    print(\"this will execute it self once try will exception without any error\")\n",
    "finally:\n",
    "        print(\"this will be executed always\")"
   ]
  },
  {
   "cell_type": "code",
   "execution_count": 142,
   "id": "2c1f5ee2-620e-4cce-9f99-0d4558bb0227",
   "metadata": {},
   "outputs": [
    {
     "name": "stdout",
     "output_type": "stream",
     "text": [
      "this code error \n"
     ]
    }
   ],
   "source": [
    "try:\n",
    "    d={\"name\":\"shahanshah\",\"mobile_no\":7070401504,\"email\":\"shahansha@gmail.com\"}\n",
    "    d[\"course\"]\n",
    "except Exception:\n",
    "    print(\"this code error \")"
   ]
  },
  {
   "cell_type": "code",
   "execution_count": 140,
   "id": "30c92b83-d952-4258-a8a7-0383b23496d4",
   "metadata": {},
   "outputs": [
    {
     "data": {
      "text/plain": [
       "{'name': 'shahanshah', 'mobile_no': 7070401504, 'email': 'shahansha@gmail.com'}"
      ]
     },
     "execution_count": 140,
     "metadata": {},
     "output_type": "execute_result"
    }
   ],
   "source": [
    "d"
   ]
  },
  {
   "cell_type": "code",
   "execution_count": 148,
   "id": "816b3b0d-049d-466a-b779-c04131a42d2b",
   "metadata": {},
   "outputs": [
    {
     "name": "stdout",
     "output_type": "stream",
     "text": [
      "list index out of range\n"
     ]
    }
   ],
   "source": [
    "try:\n",
    "    l=[3,4,5,7,8,4,7,9,]\n",
    "    l[10]\n",
    "except Exception as e:\n",
    "    print(e)"
   ]
  },
  {
   "cell_type": "code",
   "execution_count": 152,
   "id": "adb13d55-d768-4a70-af62-f2ae2229188c",
   "metadata": {},
   "outputs": [
    {
     "name": "stdout",
     "output_type": "stream",
     "text": [
      "invalid literal for int() with base 10: 'shahansha'\n"
     ]
    }
   ],
   "source": [
    "try:\n",
    "    a=\"shahansha\"\n",
    "    int(a)\n",
    "except Exception as e:\n",
    "    print(e)"
   ]
  },
  {
   "cell_type": "code",
   "execution_count": 157,
   "id": "c5b798b7-7e2a-4f53-91e5-c2d86dd96458",
   "metadata": {},
   "outputs": [
    {
     "name": "stdout",
     "output_type": "stream",
     "text": [
      "10thSepPaythonFunctionLive.ipynb\n",
      "16SepPythonConditionStatementLoopLIVE.ipynb\n",
      "17Sep2023ForloopLambaMapReduceFillter.ipynb\n",
      "23rdSepPythonWhileLoopBreak.ipynb\n",
      "24thSepPythonForLoopFUNctionLive.ipynb\n",
      "2ndSeptemberLivecClass.ipynb\n",
      "30th Sep23 Python Exception HandlingLIVE.ipynb\n",
      "3rdSeptemberClass.ipynb\n",
      "3rdSeptemberOpratorsAndControlFlow(LIVE)..ipynb\n",
      "9thSepIntroductionToFunctionLIVE.ipynb\n",
      "\u001b[34mAndroidStudioProjects\u001b[m\u001b[m/\n",
      "\u001b[34mApplications\u001b[m\u001b[m/\n",
      "Assignment  Python  For loop.ipynb\n",
      "AssignmentControlFlow.ipynb\n",
      "\u001b[34mDesktop\u001b[m\u001b[m/\n",
      "\u001b[34mDocuments\u001b[m\u001b[m/\n",
      "\u001b[34mDownloads\u001b[m\u001b[m/\n",
      "\u001b[34mIdeaProjects\u001b[m\u001b[m/\n",
      "\u001b[34mLibrary\u001b[m\u001b[m/\n",
      "\u001b[34mMovies\u001b[m\u001b[m/\n",
      "\u001b[34mMusic\u001b[m\u001b[m/\n",
      "\u001b[34mPictures\u001b[m\u001b[m/\n",
      "\u001b[34mPublic\u001b[m\u001b[m/\n",
      "\u001b[34mPython\u001b[m\u001b[m/\n",
      "Python assignment 17th Sept FSDS Pro.ipynb\n",
      "String Based Practice  Questions solve set.ipynb\n",
      "Untitled.ipynb\n",
      "Untitled1.ipynb\n",
      "Untitled10.ipynb\n",
      "Untitled2.ipynb\n",
      "Untitled3.ipynb\n",
      "Untitled4.ipynb\n",
      "Untitled5.ipynb\n",
      "Untitled6.ipynb\n",
      "Untitled7.ipynb\n",
      "Untitled8.ipynb\n",
      "Untitled9.ipynb\n",
      "_Shahanshah ;Idea Competition  pdf.pdf\n",
      "\u001b[34manaconda3\u001b[m\u001b[m/\n",
      "assignment.ipynb\n",
      "douth.ipynb\n",
      "list tuple and dic.ipynb\n",
      "numpy 2nd exp.ipynb\n",
      "python basics data type.ipynb\n",
      "test,txt.ipynb\n"
     ]
    }
   ],
   "source": [
    "ls-1"
   ]
  },
  {
   "cell_type": "code",
   "execution_count": 158,
   "id": "22b0b693-9acc-44e3-9bd0-fbaad4245101",
   "metadata": {},
   "outputs": [
    {
     "data": {
      "text/plain": [
       "'/Users/mohammadshahanshaah'"
      ]
     },
     "execution_count": 158,
     "metadata": {},
     "output_type": "execute_result"
    }
   ],
   "source": [
    "pwd"
   ]
  },
  {
   "cell_type": "code",
   "execution_count": 156,
   "id": "e0f86e91-518f-441f-bda5-4cc48ad34a0b",
   "metadata": {},
   "outputs": [
    {
     "ename": "NameError",
     "evalue": "name 'text' is not defined",
     "output_type": "error",
     "traceback": [
      "\u001b[0;31m---------------------------------------------------------------------------\u001b[0m",
      "\u001b[0;31mNameError\u001b[0m                                 Traceback (most recent call last)",
      "Cell \u001b[0;32mIn[156], line 2\u001b[0m\n\u001b[1;32m      1\u001b[0m file_name\u001b[38;5;241m=\u001b[39m\u001b[38;5;124m\"\u001b[39m\u001b[38;5;124mtext.txt\u001b[39m\u001b[38;5;124m\"\u001b[39m\n\u001b[0;32m----> 2\u001b[0m f\u001b[38;5;241m=\u001b[39m\u001b[38;5;28mopen\u001b[39m(text\u001b[38;5;241m.\u001b[39mtx)\n\u001b[1;32m      3\u001b[0m f\u001b[38;5;241m.\u001b[39mread()\n",
      "\u001b[0;31mNameError\u001b[0m: name 'text' is not defined"
     ]
    }
   ],
   "source": [
    "file_name=\"text.txt\"\n",
    "f=open(text.tx)\n",
    "f.read()"
   ]
  },
  {
   "cell_type": "code",
   "execution_count": 159,
   "id": "8753a25a-87f7-4cb8-b7df-9e7c834a2e20",
   "metadata": {},
   "outputs": [
    {
     "ename": "SyntaxError",
     "evalue": "invalid decimal literal (2471117572.py, line 2)",
     "output_type": "error",
     "traceback": [
      "\u001b[0;36m  Cell \u001b[0;32mIn[159], line 2\u001b[0;36m\u001b[0m\n\u001b[0;31m    f=0pen(file_name)\u001b[0m\n\u001b[0m      ^\u001b[0m\n\u001b[0;31mSyntaxError\u001b[0m\u001b[0;31m:\u001b[0m invalid decimal literal\n"
     ]
    }
   ],
   "source": [
    "file_name=\"test.txt\"\n",
    "f=0pen(file_name)\n",
    "f.read()"
   ]
  },
  {
   "cell_type": "code",
   "execution_count": 1,
   "id": "9e5da681-dfe0-4932-bb79-1c92ff53db9e",
   "metadata": {},
   "outputs": [
    {
     "name": "stdout",
     "output_type": "stream",
     "text": [
      "[Errno 2] No such file or directory: 'pro'\n",
      "/Users/mohammadshahanshaah\n"
     ]
    }
   ],
   "source": [
    "cd pro"
   ]
  },
  {
   "cell_type": "code",
   "execution_count": 2,
   "id": "3f42360a-1545-42d8-9ee3-2082fa6ac906",
   "metadata": {},
   "outputs": [
    {
     "data": {
      "text/plain": [
       "'/Users/mohammadshahanshaah'"
      ]
     },
     "execution_count": 2,
     "metadata": {},
     "output_type": "execute_result"
    }
   ],
   "source": [
    "pwd"
   ]
  },
  {
   "cell_type": "code",
   "execution_count": 3,
   "id": "426a6d56-abc5-42ec-aee6-d4dd8b46fa70",
   "metadata": {},
   "outputs": [
    {
     "name": "stdout",
     "output_type": "stream",
     "text": [
      "10thSepPaythonFunctionLive.ipynb\n",
      "16SepPythonConditionStatementLoopLIVE.ipynb\n",
      "17Sep2023ForloopLambaMapReduceFillter.ipynb\n",
      "23rdSepPythonWhileLoopBreak.ipynb\n",
      "24thSepPythonForLoopFUNctionLive.ipynb\n",
      "2ndSeptemberLivecClass.ipynb\n",
      "30th Sep23 Python Exception HandlingLIVE.ipynb\n",
      "3rdSeptemberClass.ipynb\n",
      "3rdSeptemberOpratorsAndControlFlow(LIVE)..ipynb\n",
      "9thSepIntroductionToFunctionLIVE.ipynb\n",
      "\u001b[34mAndroidStudioProjects\u001b[m\u001b[m/\n",
      "\u001b[34mApplications\u001b[m\u001b[m/\n",
      "Assignment  Python  For loop.ipynb\n",
      "AssignmentControlFlow.ipynb\n",
      "\u001b[34mDesktop\u001b[m\u001b[m/\n",
      "\u001b[34mDocuments\u001b[m\u001b[m/\n",
      "\u001b[34mDownloads\u001b[m\u001b[m/\n",
      "\u001b[34mIdeaProjects\u001b[m\u001b[m/\n",
      "\u001b[34mLibrary\u001b[m\u001b[m/\n",
      "\u001b[34mMovies\u001b[m\u001b[m/\n",
      "\u001b[34mMusic\u001b[m\u001b[m/\n",
      "\u001b[34mPictures\u001b[m\u001b[m/\n",
      "\u001b[34mPublic\u001b[m\u001b[m/\n",
      "\u001b[34mPython\u001b[m\u001b[m/\n",
      "Python assignment 17th Sept FSDS Pro.ipynb\n",
      "String Based Practice  Questions solve set.ipynb\n",
      "Untitled.ipynb\n",
      "Untitled1.ipynb\n",
      "Untitled10.ipynb\n",
      "Untitled2.ipynb\n",
      "Untitled3.ipynb\n",
      "Untitled4.ipynb\n",
      "Untitled5.ipynb\n",
      "Untitled6.ipynb\n",
      "Untitled7.ipynb\n",
      "Untitled8.ipynb\n",
      "Untitled9.ipynb\n",
      "_Shahanshah ;Idea Competition  pdf.pdf\n",
      "\u001b[34manaconda3\u001b[m\u001b[m/\n",
      "assignment.ipynb\n",
      "douth.ipynb\n",
      "list tuple and dic.ipynb\n",
      "numpy 2nd exp.ipynb\n",
      "python basics data type.ipynb\n",
      "test,txt.ipynb\n"
     ]
    }
   ],
   "source": [
    "ls"
   ]
  },
  {
   "cell_type": "code",
   "execution_count": 4,
   "id": "3cd9f62b-36e1-4f6f-9b2f-c4c26ab987ba",
   "metadata": {},
   "outputs": [
    {
     "name": "stdout",
     "output_type": "stream",
     "text": [
      "10thSepPaythonFunctionLive.ipynb\n",
      "16SepPythonConditionStatementLoopLIVE.ipynb\n",
      "17Sep2023ForloopLambaMapReduceFillter.ipynb\n",
      "23rdSepPythonWhileLoopBreak.ipynb\n",
      "24thSepPythonForLoopFUNctionLive.ipynb\n",
      "2ndSeptemberLivecClass.ipynb\n",
      "30th Sep23 Python Exception HandlingLIVE.ipynb\n",
      "3rdSeptemberClass.ipynb\n",
      "3rdSeptemberOpratorsAndControlFlow(LIVE)..ipynb\n",
      "9thSepIntroductionToFunctionLIVE.ipynb\n",
      "\u001b[34mAndroidStudioProjects\u001b[m\u001b[m/\n",
      "\u001b[34mApplications\u001b[m\u001b[m/\n",
      "Assignment  Python  For loop.ipynb\n",
      "AssignmentControlFlow.ipynb\n",
      "\u001b[34mDesktop\u001b[m\u001b[m/\n",
      "\u001b[34mDocuments\u001b[m\u001b[m/\n",
      "\u001b[34mDownloads\u001b[m\u001b[m/\n",
      "\u001b[34mIdeaProjects\u001b[m\u001b[m/\n",
      "\u001b[34mLibrary\u001b[m\u001b[m/\n",
      "\u001b[34mMovies\u001b[m\u001b[m/\n",
      "\u001b[34mMusic\u001b[m\u001b[m/\n",
      "\u001b[34mPictures\u001b[m\u001b[m/\n",
      "\u001b[34mPublic\u001b[m\u001b[m/\n",
      "\u001b[34mPython\u001b[m\u001b[m/\n",
      "Python assignment 17th Sept FSDS Pro.ipynb\n",
      "String Based Practice  Questions solve set.ipynb\n",
      "Untitled.ipynb\n",
      "Untitled1.ipynb\n",
      "Untitled10.ipynb\n",
      "Untitled2.ipynb\n",
      "Untitled3.ipynb\n",
      "Untitled4.ipynb\n",
      "Untitled5.ipynb\n",
      "Untitled6.ipynb\n",
      "Untitled7.ipynb\n",
      "Untitled8.ipynb\n",
      "Untitled9.ipynb\n",
      "_Shahanshah ;Idea Competition  pdf.pdf\n",
      "\u001b[34manaconda3\u001b[m\u001b[m/\n",
      "assignment.ipynb\n",
      "douth.ipynb\n",
      "list tuple and dic.ipynb\n",
      "numpy 2nd exp.ipynb\n",
      "python basics data type.ipynb\n",
      "test,txt.ipynb\n"
     ]
    }
   ],
   "source": [
    "ls-1"
   ]
  },
  {
   "cell_type": "code",
   "execution_count": 5,
   "id": "66a8ae10-c31a-4296-b6b6-8bffae259e04",
   "metadata": {},
   "outputs": [
    {
     "data": {
      "text/plain": [
       "<_io.TextIOWrapper name='Untitled2.ipynb' mode='r' encoding='UTF-8'>"
      ]
     },
     "execution_count": 5,
     "metadata": {},
     "output_type": "execute_result"
    }
   ],
   "source": [
    "open(\"Untitled2.ipynb\")"
   ]
  },
  {
   "cell_type": "code",
   "execution_count": null,
   "id": "8f9921c7-d6d0-4913-b5cf-eb1210f56336",
   "metadata": {},
   "outputs": [],
   "source": [
    "try:\n",
    "\n",
    "    n=int(input(\"enter a number\"))\n",
    "    div=342/n\n",
    "    print(div)\n",
    "except ValueError:\n",
    "    print(\"user has entered inviled input\")\n",
    "except ZeroDivisionError:\n",
    "    print(ValueError,ZeroDivisionError)"
   ]
  },
  {
   "cell_type": "code",
   "execution_count": 17,
   "id": "569ec61d-711d-44a4-9466-77a926cd9b3b",
   "metadata": {},
   "outputs": [
    {
     "name": "stdin",
     "output_type": "stream",
     "text": [
      "inter a number ttgt\n"
     ]
    },
    {
     "name": "stdout",
     "output_type": "stream",
     "text": [
      "user has enter inviled input or may be zero\n"
     ]
    }
   ],
   "source": [
    "try:\n",
    "    n=int(input(\"inter a number\"))\n",
    "    div=342/n\n",
    "    print(div)\n",
    "except (ValueError,ZeroDivisionError):\n",
    "    print(\"user has enter inviled input or may be zero\")"
   ]
  },
  {
   "cell_type": "code",
   "execution_count": 24,
   "id": "f26e05b8-bfc5-486e-9f20-414a80ece4d3",
   "metadata": {},
   "outputs": [
    {
     "name": "stdin",
     "output_type": "stream",
     "text": [
      "Enter a number:  rr\n"
     ]
    },
    {
     "name": "stdout",
     "output_type": "stream",
     "text": [
      "User has entered invalid input\n"
     ]
    }
   ],
   "source": [
    "try:\n",
    "    try:\n",
    "        n = int(input(\"Enter a number: \"))\n",
    "        div = 342 / n\n",
    "        print(div)\n",
    "    except ZeroDivisionError:\n",
    "        print(\"User has entered zero\")\n",
    "    except ValueError:\n",
    "        print(\"User has entered invalid input\")\n",
    "except Exception as e:\n",
    "    print(f\"An unexpected error occurred: {e}\")\n"
   ]
  },
  {
   "cell_type": "code",
   "execution_count": 39,
   "id": "4cbce48e-1976-465b-8889-4b6bb3d4d7a4",
   "metadata": {},
   "outputs": [
    {
     "name": "stdin",
     "output_type": "stream",
     "text": [
      "inter a number 0\n"
     ]
    },
    {
     "name": "stdout",
     "output_type": "stream",
     "text": [
      "user has enter inviled input or may be zero\n"
     ]
    }
   ],
   "source": [
    "try:\n",
    "    n=int(input(\"inter a number\"))\n",
    "    div=342/n\n",
    "    print(div)\n",
    "except Exception:\n",
    "     print(\"user has enter inviled input or may be zero\")"
   ]
  },
  {
   "cell_type": "code",
   "execution_count": 42,
   "id": "8fe50c5d-bf1f-44a8-90ac-191939d230e9",
   "metadata": {},
   "outputs": [
    {
     "name": "stdin",
     "output_type": "stream",
     "text": [
      "inter a number 45\n"
     ]
    },
    {
     "name": "stdout",
     "output_type": "stream",
     "text": [
      "7.6\n",
      "7.6\n"
     ]
    }
   ],
   "source": [
    "try:\n",
    "    n=int(input(\"inter a number\"))\n",
    "    div=342/n\n",
    "    print(div)\n",
    "except Exception:\n",
    "     print(\"user has enter inviled input or may be zero\")\n",
    "else:\n",
    "    print(div)"
   ]
  },
  {
   "cell_type": "code",
   "execution_count": 43,
   "id": "5af9aa4c-ab84-4ec8-ba60-9a9b554d7590",
   "metadata": {},
   "outputs": [
    {
     "ename": "NameError",
     "evalue": "name 'f' is not defined",
     "output_type": "error",
     "traceback": [
      "\u001b[0;31m---------------------------------------------------------------------------\u001b[0m",
      "\u001b[0;31mFileNotFoundError\u001b[0m                         Traceback (most recent call last)",
      "Cell \u001b[0;32mIn[43], line 2\u001b[0m\n\u001b[1;32m      1\u001b[0m \u001b[38;5;28;01mtry\u001b[39;00m:\n\u001b[0;32m----> 2\u001b[0m     f\u001b[38;5;241m=\u001b[39m\u001b[38;5;28mopen\u001b[39m(\u001b[38;5;124m\"\u001b[39m\u001b[38;5;124m/home/janve//dfefe//er/text,txt\u001b[39m\u001b[38;5;124m\"\u001b[39m)\n\u001b[1;32m      3\u001b[0m     data\u001b[38;5;241m=\u001b[39mf\u001b[38;5;241m.\u001b[39mwrite()\n",
      "File \u001b[0;32m~/anaconda3/lib/python3.11/site-packages/IPython/core/interactiveshell.py:286\u001b[0m, in \u001b[0;36m_modified_open\u001b[0;34m(file, *args, **kwargs)\u001b[0m\n\u001b[1;32m    280\u001b[0m     \u001b[38;5;28;01mraise\u001b[39;00m \u001b[38;5;167;01mValueError\u001b[39;00m(\n\u001b[1;32m    281\u001b[0m         \u001b[38;5;124mf\u001b[39m\u001b[38;5;124m\"\u001b[39m\u001b[38;5;124mIPython won\u001b[39m\u001b[38;5;124m'\u001b[39m\u001b[38;5;124mt let you open fd=\u001b[39m\u001b[38;5;132;01m{\u001b[39;00mfile\u001b[38;5;132;01m}\u001b[39;00m\u001b[38;5;124m by default \u001b[39m\u001b[38;5;124m\"\u001b[39m\n\u001b[1;32m    282\u001b[0m         \u001b[38;5;124m\"\u001b[39m\u001b[38;5;124mas it is likely to crash IPython. If you know what you are doing, \u001b[39m\u001b[38;5;124m\"\u001b[39m\n\u001b[1;32m    283\u001b[0m         \u001b[38;5;124m\"\u001b[39m\u001b[38;5;124myou can use builtins\u001b[39m\u001b[38;5;124m'\u001b[39m\u001b[38;5;124m open.\u001b[39m\u001b[38;5;124m\"\u001b[39m\n\u001b[1;32m    284\u001b[0m     )\n\u001b[0;32m--> 286\u001b[0m \u001b[38;5;28;01mreturn\u001b[39;00m io_open(file, \u001b[38;5;241m*\u001b[39margs, \u001b[38;5;241m*\u001b[39m\u001b[38;5;241m*\u001b[39mkwargs)\n",
      "\u001b[0;31mFileNotFoundError\u001b[0m: [Errno 2] No such file or directory: '/home/janve//dfefe//er/text,txt'",
      "\nDuring handling of the above exception, another exception occurred:\n",
      "\u001b[0;31mNameError\u001b[0m                                 Traceback (most recent call last)",
      "Cell \u001b[0;32mIn[43], line 4\u001b[0m\n\u001b[1;32m      3\u001b[0m     data\u001b[38;5;241m=\u001b[39mf\u001b[38;5;241m.\u001b[39mwrite()\n\u001b[0;32m----> 4\u001b[0m \u001b[38;5;28;01mexcept\u001b[39;00m exception :\n\u001b[1;32m      5\u001b[0m     \u001b[38;5;28mprint\u001b[39m(\u001b[38;5;124m\"\u001b[39m\u001b[38;5;124mthee is some issu\u001b[39m\u001b[38;5;124m\"\u001b[39m)\n",
      "\u001b[0;31mNameError\u001b[0m: name 'exception' is not defined",
      "\nDuring handling of the above exception, another exception occurred:\n",
      "\u001b[0;31mNameError\u001b[0m                                 Traceback (most recent call last)",
      "Cell \u001b[0;32mIn[43], line 13\u001b[0m\n\u001b[1;32m     11\u001b[0m \u001b[38;5;28;01mexcept\u001b[39;00m :\n\u001b[1;32m     12\u001b[0m     \u001b[38;5;28;01mpass\u001b[39;00m\n\u001b[0;32m---> 13\u001b[0m f\u001b[38;5;241m.\u001b[39mclose()\n\u001b[1;32m     14\u001b[0m \u001b[38;5;28mprint\u001b[39m(\u001b[38;5;124m\"\u001b[39m\u001b[38;5;124mfile close\u001b[39m\u001b[38;5;124m\"\u001b[39m)\n",
      "\u001b[0;31mNameError\u001b[0m: name 'f' is not defined"
     ]
    }
   ],
   "source": [
    "try:\n",
    "    f=open(\"/home/janve//dfefe//er/text,txt\")\n",
    "    data=f.write()\n",
    "except exception :\n",
    "    print(\"thee is some issu\")\n",
    "else :\n",
    "    print(data)\n",
    "finally :\n",
    "    try:\n",
    "        print(data)\n",
    "    except :\n",
    "        pass\n",
    "    f.close()\n",
    "    print(\"file close\")"
   ]
  },
  {
   "cell_type": "code",
   "execution_count": 44,
   "id": "183ef985-337a-4ae2-a35b-b835d12687e3",
   "metadata": {},
   "outputs": [
    {
     "name": "stdout",
     "output_type": "stream",
     "text": [
      "There is some issue: [Errno 2] No such file or directory: '/home/janve/dfefe/er/text.txt'\n",
      "Error while closing the file: name 'f' is not defined\n"
     ]
    }
   ],
   "source": [
    "try:\n",
    "    f = open(\"/home/janve/dfefe/er/text.txt\", \"w\")  # Open the file in write mode\n",
    "    data = f.write(\"Hello, world!\")  # Write some data to the file\n",
    "except Exception as e:\n",
    "    print(f\"There is some issue: {e}\")\n",
    "else:\n",
    "    print(f\"Data written successfully: {data}\")\n",
    "finally:\n",
    "    try:\n",
    "        f.close()  # Close the file\n",
    "        print(\"File closed\")\n",
    "    except Exception as e:\n",
    "        print(f\"Error while closing the file: {e}\")\n"
   ]
  },
  {
   "cell_type": "code",
   "execution_count": 52,
   "id": "603eea2f-6920-4997-b18e-08100ecb5262",
   "metadata": {},
   "outputs": [
    {
     "name": "stdin",
     "output_type": "stream",
     "text": [
      "enter high of the wall 44\n"
     ]
    }
   ],
   "source": [
    "try:\n",
    "    a=int(input(\"enter high of the wall\"))\n",
    "    if a<0:\n",
    "         raise  ValueError(\"enter hight is negative\")\n",
    "except ValueError as v:\n",
    "    print(v)"
   ]
  },
  {
   "cell_type": "code",
   "execution_count": 53,
   "id": "ed199442-7985-4beb-89b2-30d87094a07f",
   "metadata": {},
   "outputs": [
    {
     "name": "stdin",
     "output_type": "stream",
     "text": [
      "enter high of the wall -45\n"
     ]
    },
    {
     "name": "stdout",
     "output_type": "stream",
     "text": [
      "enter hight is negative\n"
     ]
    }
   ],
   "source": [
    "try:\n",
    "    a=int(input(\"enter high of the wall\"))\n",
    "    if a<0:\n",
    "         raise  ValueError(\"enter hight is negative\")\n",
    "except ValueError as v:\n",
    "    print(v)\n",
    "    "
   ]
  },
  {
   "cell_type": "code",
   "execution_count": 63,
   "id": "631599da-a6fe-4115-b2d2-ffc35527356f",
   "metadata": {},
   "outputs": [
    {
     "name": "stdin",
     "output_type": "stream",
     "text": [
      "enter your age 13\n"
     ]
    },
    {
     "name": "stdout",
     "output_type": "stream",
     "text": [
      "user is under age\n"
     ]
    }
   ],
   "source": [
    "try:\n",
    "    age=int(input(\"enter your age\"))\n",
    "    if age <0:\n",
    "      raise  ValueError(\"user has enterd a neegative age with is not valid\")\n",
    "    elif age<18:\n",
    "      raise  ValueError(\"user is under age\")\n",
    "    else:\n",
    "        print(\"valid error\")\n",
    "except ValueError as v:\n",
    "    print(v)"
   ]
  },
  {
   "cell_type": "code",
   "execution_count": 64,
   "id": "34d6b8bd-ebf0-4d27-a7cb-ecd2438510f2",
   "metadata": {},
   "outputs": [],
   "source": [
    "import logging as log"
   ]
  },
  {
   "cell_type": "code",
   "execution_count": 65,
   "id": "7766a6fb-1755-4056-8267-e5696c363a68",
   "metadata": {},
   "outputs": [
    {
     "ename": "AttributeError",
     "evalue": "module 'logging' has no attribute 'basicsConfig'",
     "output_type": "error",
     "traceback": [
      "\u001b[0;31m---------------------------------------------------------------------------\u001b[0m",
      "\u001b[0;31mAttributeError\u001b[0m                            Traceback (most recent call last)",
      "Cell \u001b[0;32mIn[65], line 1\u001b[0m\n\u001b[0;32m----> 1\u001b[0m log\u001b[38;5;241m.\u001b[39mbasicsConfig(filename\u001b[38;5;241m=\u001b[39m\u001b[38;5;124m\"\u001b[39m\u001b[38;5;124mtext.log\u001b[39m\u001b[38;5;124m\"\u001b[39m)\n",
      "\u001b[0;31mAttributeError\u001b[0m: module 'logging' has no attribute 'basicsConfig'"
     ]
    }
   ],
   "source": [
    "log.basicsConfig(filename=\"text.log\")"
   ]
  },
  {
   "cell_type": "code",
   "execution_count": 66,
   "id": "1aa70a21-54fa-4e80-800c-208cd37279cc",
   "metadata": {},
   "outputs": [],
   "source": [
    "log.info(\"store a msm\")"
   ]
  },
  {
   "cell_type": "code",
   "execution_count": 67,
   "id": "55146f20-2df5-44cb-a7f9-6546894f71f6",
   "metadata": {},
   "outputs": [],
   "source": [
    "log.debug(\"this is a debug\")"
   ]
  },
  {
   "cell_type": "code",
   "execution_count": null,
   "id": "2d7bb68f-1b37-4dcb-8bb1-f33df3c25647",
   "metadata": {},
   "outputs": [],
   "source": [
    "import logging\n",
    "logging.basicConfig()"
   ]
  }
 ],
 "metadata": {
  "kernelspec": {
   "display_name": "Python 3 (ipykernel)",
   "language": "python",
   "name": "python3"
  },
  "language_info": {
   "codemirror_mode": {
    "name": "ipython",
    "version": 3
   },
   "file_extension": ".py",
   "mimetype": "text/x-python",
   "name": "python",
   "nbconvert_exporter": "python",
   "pygments_lexer": "ipython3",
   "version": "3.11.5"
  }
 },
 "nbformat": 4,
 "nbformat_minor": 5
}
